{
 "cells": [
  {
   "cell_type": "markdown",
   "id": "13c74a3c-ebb9-4922-bba2-8a0b7d512bff",
   "metadata": {},
   "source": [
    "## How to use\n",
    "\n",
    "[![Binder](https://mybinder.org/badge_logo.svg)](https://mybinder.org/v2/gh/L4rralde/ppu_perf_model/HEAD?labpath=main.ipynb)\n",
    "\n",
    "I don't know how to build this project on Windows machines. If you don't have access to an unix-based system, I recommend to use binder and open\n",
    "a terminal on it.\n",
    "\n",
    "\n",
    "### Initial setup\n",
    "\n",
    "```sh\n",
    "source setup.sh #Only the first time\n",
    "```\n",
    "\n",
    "### Build\n",
    "\n",
    "```sh\n",
    "source build.sh\n",
    "```\n",
    "\n",
    "### Test\n",
    "\n",
    "```sh\n",
    "source test.sh\n",
    "```\n",
    "\n",
    "### Fast Int8 model\n",
    "\n",
    "```sh\n",
    "./cpp/output/int8_model.o data/pgm/*.pgm\n",
    "```"
   ]
  },
  {
   "cell_type": "code",
   "execution_count": null,
   "id": "b8c9de86-1e23-45aa-8641-65c7b8b3ddb6",
   "metadata": {},
   "outputs": [],
   "source": []
  }
 ],
 "metadata": {
  "kernelspec": {
   "display_name": "Python 3 (ipykernel)",
   "language": "python",
   "name": "python3"
  },
  "language_info": {
   "codemirror_mode": {
    "name": "ipython",
    "version": 3
   },
   "file_extension": ".py",
   "mimetype": "text/x-python",
   "name": "python",
   "nbconvert_exporter": "python",
   "pygments_lexer": "ipython3",
   "version": "3.12.7"
  }
 },
 "nbformat": 4,
 "nbformat_minor": 5
}
