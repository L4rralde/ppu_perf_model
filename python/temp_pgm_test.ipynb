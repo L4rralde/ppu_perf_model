{
 "cells": [
  {
   "cell_type": "code",
   "execution_count": 85,
   "id": "3de236fa-feb7-46e3-9403-ff2b53e88a69",
   "metadata": {},
   "outputs": [],
   "source": [
    "import numpy as np\n",
    "\n",
    "from dataset import Stenosis608DataSet, ToTensor\n",
    "from utils import GIT_ROOT"
   ]
  },
  {
   "cell_type": "code",
   "execution_count": 97,
   "id": "32a4014d-c381-42a7-b0cf-27cc8cb66f27",
   "metadata": {},
   "outputs": [],
   "source": [
    "imgs = glob.glob(f\"{GIT_ROOT}/data/pgm/*.pgm\")"
   ]
  },
  {
   "cell_type": "code",
   "execution_count": 98,
   "id": "a59a4d59-174b-4545-b8cb-bb3d611d9b6c",
   "metadata": {},
   "outputs": [],
   "source": [
    "stenosis_dataset = Stenosis608DataSet(\n",
    "    f\"{GIT_ROOT}/data/stenosis_608.csv\",\n",
    "    f\"{GIT_ROOT}/data/pgm/\",\n",
    "    ToTensor()\n",
    ")"
   ]
  },
  {
   "cell_type": "code",
   "execution_count": 106,
   "id": "a97e2d77-8ab9-41c2-8701-b510571ac5ee",
   "metadata": {},
   "outputs": [],
   "source": [
    "for i in range(len(imgs)):\n",
    "    res = !{GIT_ROOT}/cpp/output/test_quant.o {img_path[i]}\n",
    "    res = np.array([float(x) for x in res[0].split()])\n",
    "    img, label = stenosis_dataset[i]\n",
    "    flat = img.flatten().numpy()\n",
    "    error = np.linalg.norm(flat - res)\n",
    "    if error > 0.000025:\n",
    "        print(i)\n",
    "        break"
   ]
  },
  {
   "cell_type": "code",
   "execution_count": 89,
   "id": "197597dd-8290-4b56-be39-4d4c91f24d4b",
   "metadata": {},
   "outputs": [],
   "source": []
  }
 ],
 "metadata": {
  "kernelspec": {
   "display_name": "Python 3 (ipykernel)",
   "language": "python",
   "name": "python3"
  },
  "language_info": {
   "codemirror_mode": {
    "name": "ipython",
    "version": 3
   },
   "file_extension": ".py",
   "mimetype": "text/x-python",
   "name": "python",
   "nbconvert_exporter": "python",
   "pygments_lexer": "ipython3",
   "version": "3.12.7"
  }
 },
 "nbformat": 4,
 "nbformat_minor": 5
}
