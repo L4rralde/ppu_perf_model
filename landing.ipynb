{
 "cells": [
  {
   "cell_type": "code",
   "execution_count": 1,
   "id": "da733b9d-be22-4120-9059-3cf6e41bf253",
   "metadata": {},
   "outputs": [],
   "source": [
    "import os\n",
    "\n",
    "ignored_paths = [\"./cpp/output\"]\n",
    "for directory in ignored_paths:\n",
    "    if not os.path.exists(directory):\n",
    "        os.makedirs(directory)"
   ]
  },
  {
   "cell_type": "code",
   "execution_count": 2,
   "id": "0160cffa-c04d-46d7-be13-acef070b5439",
   "metadata": {},
   "outputs": [
    {
     "name": "stdout",
     "output_type": "stream",
     "text": [
      "Directory /Users/l4rralde/Desktop/CIMAT/Semestres/Progra/Proyecto/data/pgm already exists.\n",
      "Model already exists.\n",
      "Environment ready\n"
     ]
    }
   ],
   "source": [
    "!source setup.sh"
   ]
  },
  {
   "cell_type": "code",
   "execution_count": null,
   "id": "b12f02da-7381-4f49-9c18-9f9812c99156",
   "metadata": {},
   "outputs": [],
   "source": [
    "!./build.sh"
   ]
  },
  {
   "cell_type": "code",
   "execution_count": null,
   "id": "dc4d79d2-4970-46eb-90d2-3865222b1293",
   "metadata": {},
   "outputs": [],
   "source": [
    "!./test.sh"
   ]
  },
  {
   "cell_type": "code",
   "execution_count": null,
   "id": "69aa2eac-0e5d-4714-81c4-925de1bb3e8e",
   "metadata": {},
   "outputs": [],
   "source": []
  }
 ],
 "metadata": {
  "kernelspec": {
   "display_name": "Python 3 (ipykernel)",
   "language": "python",
   "name": "python3"
  },
  "language_info": {
   "codemirror_mode": {
    "name": "ipython",
    "version": 3
   },
   "file_extension": ".py",
   "mimetype": "text/x-python",
   "name": "python",
   "nbconvert_exporter": "python",
   "pygments_lexer": "ipython3",
   "version": "3.12.7"
  }
 },
 "nbformat": 4,
 "nbformat_minor": 5
}
